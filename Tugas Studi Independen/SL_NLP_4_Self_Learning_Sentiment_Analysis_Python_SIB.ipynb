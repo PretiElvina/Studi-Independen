{
  "nbformat": 4,
  "nbformat_minor": 0,
  "metadata": {
    "kernelspec": {
      "display_name": "Python 3",
      "language": "python",
      "name": "python3"
    },
    "language_info": {
      "codemirror_mode": {
        "name": "ipython",
        "version": 3
      },
      "file_extension": ".py",
      "mimetype": "text/x-python",
      "name": "python",
      "nbconvert_exporter": "python",
      "pygments_lexer": "ipython3",
      "version": "3.8.8"
    },
    "colab": {
      "provenance": [],
      "include_colab_link": true
    }
  },
  "cells": [
    {
      "cell_type": "markdown",
      "metadata": {
        "id": "view-in-github",
        "colab_type": "text"
      },
      "source": [
        "<a href=\"https://colab.research.google.com/github/PretiElvina/Studi-Independen/blob/main/Tugas%20Studi%20Independen/SL_NLP_4_Self_Learning_Sentiment_Analysis_Python_SIB.ipynb\" target=\"_parent\"><img src=\"https://colab.research.google.com/assets/colab-badge.svg\" alt=\"Open In Colab\"/></a>"
      ]
    },
    {
      "cell_type": "markdown",
      "metadata": {
        "id": "3mebfOxIHlgi"
      },
      "source": [
        "# PENTING DAN MOHON PERHATIAN\n",
        "\n",
        "Pada Preprocessing kode ini menggunakan 2 STOPWORDS, yaitu Stopwords bahasa Indonesia dan Stopwords bahasa Inggris.\n",
        "\n",
        "Langkah-langkah mengerjakan:\n",
        "1. Run Preprocessing kode menggunakan stopwords Bahasa Indonesia terlebih dahulu, run sampai selesai\n",
        "\n",
        "2. Run Preprocessing kode menggunakan stopwords Bahasa Inggris, dan run sampai selesai"
      ]
    },
    {
      "cell_type": "markdown",
      "source": [
        "Istilah korpus (corpus) digunakan untuk menjelaskan sekumpulan dokumen, baik\n",
        "berbentuk tulisan atau lisan, yang disimpan dan diproses di dalam komputer untuk\n",
        "tujuan penyelidikan dan penelitian. Tujuan pembuatan korpus antara\n",
        "lain sebagai data training untuk aplikasi NLP (part-of-speech taggers dan parsers,\n",
        "speech recognizers, sistem terjemahan), sumber data untuk penelitian leksikal, optimasi\n",
        "mesin pencarian, studi literatur, dan kebutuhan khusus lainnya"
      ],
      "metadata": {
        "id": "Wo-e8bBOTCes"
      }
    },
    {
      "cell_type": "markdown",
      "source": [
        "# **KETIK ULANG CODINGAN DIBAWAH INI dan Jelaskan fungsi-fungsi dicodingan tersebut**\n"
      ],
      "metadata": {
        "id": "W0scrkrnsefR"
      }
    },
    {
      "cell_type": "markdown",
      "metadata": {
        "id": "u_z6LklZO7S6"
      },
      "source": [
        "# Analisa Sentimen menggunakan Algoritma Logistic Regression"
      ]
    },
    {
      "cell_type": "code",
      "source": [
        "import numpy as np #linier algebra\n",
        "import pandas as pd #data prepocessing, CSV file I/O (e.g pd.read_csv)\n",
        "import seaborn as sns"
      ],
      "metadata": {
        "id": "hnjSYmrUwzTo"
      },
      "execution_count": 31,
      "outputs": []
    },
    {
      "cell_type": "markdown",
      "metadata": {
        "id": "_f9LllB4O7TE"
      },
      "source": [
        "# Proses 1 (Input Data Training)"
      ]
    },
    {
      "cell_type": "code",
      "metadata": {
        "id": "9Lr3cQU3ZDKX",
        "colab": {
          "base_uri": "https://localhost:8080/",
          "height": 206
        },
        "outputId": "b1797e94-33b4-4ccb-8239-1e6b57fa2749"
      },
      "source": [
        "#membaca data training = 1050 data\n",
        "df = pd.read_csv('https://raw.githubusercontent.com/rasyidev/well-known-datasets/main/juli2train.csv')\n",
        "df.head()"
      ],
      "execution_count": 32,
      "outputs": [
        {
          "output_type": "execute_result",
          "data": {
            "text/plain": [
              "   label                                              tweet\n",
              "0      1  rt @napqilla  no      ambisinya menguasai raky...\n",
              "1      1  rt @pandji  nah gue pikir sentimen petahana ok...\n",
              "2      1  rt @pandji  urutan pertama best moment #debat ...\n",
              "3      1  rt @pandji  ini artikel yg menjelaskan ternyat...\n",
              "4      0  rt @mrtampi  agus makin santai  nahok makin sa..."
            ],
            "text/html": [
              "\n",
              "  <div id=\"df-fbf2e045-c562-4e4b-9039-53910e462709\" class=\"colab-df-container\">\n",
              "    <div>\n",
              "<style scoped>\n",
              "    .dataframe tbody tr th:only-of-type {\n",
              "        vertical-align: middle;\n",
              "    }\n",
              "\n",
              "    .dataframe tbody tr th {\n",
              "        vertical-align: top;\n",
              "    }\n",
              "\n",
              "    .dataframe thead th {\n",
              "        text-align: right;\n",
              "    }\n",
              "</style>\n",
              "<table border=\"1\" class=\"dataframe\">\n",
              "  <thead>\n",
              "    <tr style=\"text-align: right;\">\n",
              "      <th></th>\n",
              "      <th>label</th>\n",
              "      <th>tweet</th>\n",
              "    </tr>\n",
              "  </thead>\n",
              "  <tbody>\n",
              "    <tr>\n",
              "      <th>0</th>\n",
              "      <td>1</td>\n",
              "      <td>rt @napqilla  no      ambisinya menguasai raky...</td>\n",
              "    </tr>\n",
              "    <tr>\n",
              "      <th>1</th>\n",
              "      <td>1</td>\n",
              "      <td>rt @pandji  nah gue pikir sentimen petahana ok...</td>\n",
              "    </tr>\n",
              "    <tr>\n",
              "      <th>2</th>\n",
              "      <td>1</td>\n",
              "      <td>rt @pandji  urutan pertama best moment #debat ...</td>\n",
              "    </tr>\n",
              "    <tr>\n",
              "      <th>3</th>\n",
              "      <td>1</td>\n",
              "      <td>rt @pandji  ini artikel yg menjelaskan ternyat...</td>\n",
              "    </tr>\n",
              "    <tr>\n",
              "      <th>4</th>\n",
              "      <td>0</td>\n",
              "      <td>rt @mrtampi  agus makin santai  nahok makin sa...</td>\n",
              "    </tr>\n",
              "  </tbody>\n",
              "</table>\n",
              "</div>\n",
              "    <div class=\"colab-df-buttons\">\n",
              "\n",
              "  <div class=\"colab-df-container\">\n",
              "    <button class=\"colab-df-convert\" onclick=\"convertToInteractive('df-fbf2e045-c562-4e4b-9039-53910e462709')\"\n",
              "            title=\"Convert this dataframe to an interactive table.\"\n",
              "            style=\"display:none;\">\n",
              "\n",
              "  <svg xmlns=\"http://www.w3.org/2000/svg\" height=\"24px\" viewBox=\"0 -960 960 960\">\n",
              "    <path d=\"M120-120v-720h720v720H120Zm60-500h600v-160H180v160Zm220 220h160v-160H400v160Zm0 220h160v-160H400v160ZM180-400h160v-160H180v160Zm440 0h160v-160H620v160ZM180-180h160v-160H180v160Zm440 0h160v-160H620v160Z\"/>\n",
              "  </svg>\n",
              "    </button>\n",
              "\n",
              "  <style>\n",
              "    .colab-df-container {\n",
              "      display:flex;\n",
              "      gap: 12px;\n",
              "    }\n",
              "\n",
              "    .colab-df-convert {\n",
              "      background-color: #E8F0FE;\n",
              "      border: none;\n",
              "      border-radius: 50%;\n",
              "      cursor: pointer;\n",
              "      display: none;\n",
              "      fill: #1967D2;\n",
              "      height: 32px;\n",
              "      padding: 0 0 0 0;\n",
              "      width: 32px;\n",
              "    }\n",
              "\n",
              "    .colab-df-convert:hover {\n",
              "      background-color: #E2EBFA;\n",
              "      box-shadow: 0px 1px 2px rgba(60, 64, 67, 0.3), 0px 1px 3px 1px rgba(60, 64, 67, 0.15);\n",
              "      fill: #174EA6;\n",
              "    }\n",
              "\n",
              "    .colab-df-buttons div {\n",
              "      margin-bottom: 4px;\n",
              "    }\n",
              "\n",
              "    [theme=dark] .colab-df-convert {\n",
              "      background-color: #3B4455;\n",
              "      fill: #D2E3FC;\n",
              "    }\n",
              "\n",
              "    [theme=dark] .colab-df-convert:hover {\n",
              "      background-color: #434B5C;\n",
              "      box-shadow: 0px 1px 3px 1px rgba(0, 0, 0, 0.15);\n",
              "      filter: drop-shadow(0px 1px 2px rgba(0, 0, 0, 0.3));\n",
              "      fill: #FFFFFF;\n",
              "    }\n",
              "  </style>\n",
              "\n",
              "    <script>\n",
              "      const buttonEl =\n",
              "        document.querySelector('#df-fbf2e045-c562-4e4b-9039-53910e462709 button.colab-df-convert');\n",
              "      buttonEl.style.display =\n",
              "        google.colab.kernel.accessAllowed ? 'block' : 'none';\n",
              "\n",
              "      async function convertToInteractive(key) {\n",
              "        const element = document.querySelector('#df-fbf2e045-c562-4e4b-9039-53910e462709');\n",
              "        const dataTable =\n",
              "          await google.colab.kernel.invokeFunction('convertToInteractive',\n",
              "                                                    [key], {});\n",
              "        if (!dataTable) return;\n",
              "\n",
              "        const docLinkHtml = 'Like what you see? Visit the ' +\n",
              "          '<a target=\"_blank\" href=https://colab.research.google.com/notebooks/data_table.ipynb>data table notebook</a>'\n",
              "          + ' to learn more about interactive tables.';\n",
              "        element.innerHTML = '';\n",
              "        dataTable['output_type'] = 'display_data';\n",
              "        await google.colab.output.renderOutput(dataTable, element);\n",
              "        const docLink = document.createElement('div');\n",
              "        docLink.innerHTML = docLinkHtml;\n",
              "        element.appendChild(docLink);\n",
              "      }\n",
              "    </script>\n",
              "  </div>\n",
              "\n",
              "\n",
              "<div id=\"df-43c0a573-a232-4458-8281-52398e94706b\">\n",
              "  <button class=\"colab-df-quickchart\" onclick=\"quickchart('df-43c0a573-a232-4458-8281-52398e94706b')\"\n",
              "            title=\"Suggest charts\"\n",
              "            style=\"display:none;\">\n",
              "\n",
              "<svg xmlns=\"http://www.w3.org/2000/svg\" height=\"24px\"viewBox=\"0 0 24 24\"\n",
              "     width=\"24px\">\n",
              "    <g>\n",
              "        <path d=\"M19 3H5c-1.1 0-2 .9-2 2v14c0 1.1.9 2 2 2h14c1.1 0 2-.9 2-2V5c0-1.1-.9-2-2-2zM9 17H7v-7h2v7zm4 0h-2V7h2v10zm4 0h-2v-4h2v4z\"/>\n",
              "    </g>\n",
              "</svg>\n",
              "  </button>\n",
              "\n",
              "<style>\n",
              "  .colab-df-quickchart {\n",
              "      --bg-color: #E8F0FE;\n",
              "      --fill-color: #1967D2;\n",
              "      --hover-bg-color: #E2EBFA;\n",
              "      --hover-fill-color: #174EA6;\n",
              "      --disabled-fill-color: #AAA;\n",
              "      --disabled-bg-color: #DDD;\n",
              "  }\n",
              "\n",
              "  [theme=dark] .colab-df-quickchart {\n",
              "      --bg-color: #3B4455;\n",
              "      --fill-color: #D2E3FC;\n",
              "      --hover-bg-color: #434B5C;\n",
              "      --hover-fill-color: #FFFFFF;\n",
              "      --disabled-bg-color: #3B4455;\n",
              "      --disabled-fill-color: #666;\n",
              "  }\n",
              "\n",
              "  .colab-df-quickchart {\n",
              "    background-color: var(--bg-color);\n",
              "    border: none;\n",
              "    border-radius: 50%;\n",
              "    cursor: pointer;\n",
              "    display: none;\n",
              "    fill: var(--fill-color);\n",
              "    height: 32px;\n",
              "    padding: 0;\n",
              "    width: 32px;\n",
              "  }\n",
              "\n",
              "  .colab-df-quickchart:hover {\n",
              "    background-color: var(--hover-bg-color);\n",
              "    box-shadow: 0 1px 2px rgba(60, 64, 67, 0.3), 0 1px 3px 1px rgba(60, 64, 67, 0.15);\n",
              "    fill: var(--button-hover-fill-color);\n",
              "  }\n",
              "\n",
              "  .colab-df-quickchart-complete:disabled,\n",
              "  .colab-df-quickchart-complete:disabled:hover {\n",
              "    background-color: var(--disabled-bg-color);\n",
              "    fill: var(--disabled-fill-color);\n",
              "    box-shadow: none;\n",
              "  }\n",
              "\n",
              "  .colab-df-spinner {\n",
              "    border: 2px solid var(--fill-color);\n",
              "    border-color: transparent;\n",
              "    border-bottom-color: var(--fill-color);\n",
              "    animation:\n",
              "      spin 1s steps(1) infinite;\n",
              "  }\n",
              "\n",
              "  @keyframes spin {\n",
              "    0% {\n",
              "      border-color: transparent;\n",
              "      border-bottom-color: var(--fill-color);\n",
              "      border-left-color: var(--fill-color);\n",
              "    }\n",
              "    20% {\n",
              "      border-color: transparent;\n",
              "      border-left-color: var(--fill-color);\n",
              "      border-top-color: var(--fill-color);\n",
              "    }\n",
              "    30% {\n",
              "      border-color: transparent;\n",
              "      border-left-color: var(--fill-color);\n",
              "      border-top-color: var(--fill-color);\n",
              "      border-right-color: var(--fill-color);\n",
              "    }\n",
              "    40% {\n",
              "      border-color: transparent;\n",
              "      border-right-color: var(--fill-color);\n",
              "      border-top-color: var(--fill-color);\n",
              "    }\n",
              "    60% {\n",
              "      border-color: transparent;\n",
              "      border-right-color: var(--fill-color);\n",
              "    }\n",
              "    80% {\n",
              "      border-color: transparent;\n",
              "      border-right-color: var(--fill-color);\n",
              "      border-bottom-color: var(--fill-color);\n",
              "    }\n",
              "    90% {\n",
              "      border-color: transparent;\n",
              "      border-bottom-color: var(--fill-color);\n",
              "    }\n",
              "  }\n",
              "</style>\n",
              "\n",
              "  <script>\n",
              "    async function quickchart(key) {\n",
              "      const quickchartButtonEl =\n",
              "        document.querySelector('#' + key + ' button');\n",
              "      quickchartButtonEl.disabled = true;  // To prevent multiple clicks.\n",
              "      quickchartButtonEl.classList.add('colab-df-spinner');\n",
              "      try {\n",
              "        const charts = await google.colab.kernel.invokeFunction(\n",
              "            'suggestCharts', [key], {});\n",
              "      } catch (error) {\n",
              "        console.error('Error during call to suggestCharts:', error);\n",
              "      }\n",
              "      quickchartButtonEl.classList.remove('colab-df-spinner');\n",
              "      quickchartButtonEl.classList.add('colab-df-quickchart-complete');\n",
              "    }\n",
              "    (() => {\n",
              "      let quickchartButtonEl =\n",
              "        document.querySelector('#df-43c0a573-a232-4458-8281-52398e94706b button');\n",
              "      quickchartButtonEl.style.display =\n",
              "        google.colab.kernel.accessAllowed ? 'block' : 'none';\n",
              "    })();\n",
              "  </script>\n",
              "</div>\n",
              "    </div>\n",
              "  </div>\n"
            ],
            "application/vnd.google.colaboratory.intrinsic+json": {
              "type": "dataframe",
              "variable_name": "df",
              "summary": "{\n  \"name\": \"df\",\n  \"rows\": 1050,\n  \"fields\": [\n    {\n      \"column\": \"label\",\n      \"properties\": {\n        \"dtype\": \"number\",\n        \"std\": 0,\n        \"min\": 0,\n        \"max\": 1,\n        \"num_unique_values\": 2,\n        \"samples\": [\n          0,\n          1\n        ],\n        \"semantic_type\": \"\",\n        \"description\": \"\"\n      }\n    },\n    {\n      \"column\": \"tweet\",\n      \"properties\": {\n        \"dtype\": \"string\",\n        \"num_unique_values\": 722,\n        \"samples\": [\n          \"mungkin blom makan atau tak menguasai masalah yg ditanyakan @matanajwa https     t co  xpozs qvgr\",\n          \" @alexemeru @stone cobain @agusyudhoyono E1213 iya program #ani ssandim nang yg mana yg dah dijalanin ahok   \"\n        ],\n        \"semantic_type\": \"\",\n        \"description\": \"\"\n      }\n    }\n  ]\n}"
            }
          },
          "metadata": {},
          "execution_count": 32
        }
      ]
    },
    {
      "cell_type": "markdown",
      "metadata": {
        "id": "5OuOMyf-ZB85"
      },
      "source": []
    },
    {
      "cell_type": "code",
      "source": [
        "print(df.columns)"
      ],
      "metadata": {
        "colab": {
          "base_uri": "https://localhost:8080/"
        },
        "id": "MGlLmWKexEBD",
        "outputId": "d23914df-90bd-4cc6-aefa-60fdbad4775b"
      },
      "execution_count": 33,
      "outputs": [
        {
          "output_type": "stream",
          "name": "stdout",
          "text": [
            "Index(['label', 'tweet'], dtype='object')\n"
          ]
        }
      ]
    },
    {
      "cell_type": "code",
      "source": [
        "#menampilkan data label\n",
        "y = df['label']\n",
        "y[0:5]"
      ],
      "metadata": {
        "colab": {
          "base_uri": "https://localhost:8080/"
        },
        "id": "4pB_RnaExG9J",
        "outputId": "3cd2fb1d-8187-4b84-dab2-d26c715018f3"
      },
      "execution_count": 34,
      "outputs": [
        {
          "output_type": "execute_result",
          "data": {
            "text/plain": [
              "0    1\n",
              "1    1\n",
              "2    1\n",
              "3    1\n",
              "4    0\n",
              "Name: label, dtype: int64"
            ]
          },
          "metadata": {},
          "execution_count": 34
        }
      ]
    },
    {
      "cell_type": "code",
      "source": [
        "#menampilkan grafik nilai dari variabel \"label\"\n",
        "sns.countplot(x='label', data=df)"
      ],
      "metadata": {
        "colab": {
          "base_uri": "https://localhost:8080/",
          "height": 466
        },
        "id": "_P-Sk9HyxLBa",
        "outputId": "8de4bef1-9ad6-4827-daca-205cfff6decb"
      },
      "execution_count": 35,
      "outputs": [
        {
          "output_type": "execute_result",
          "data": {
            "text/plain": [
              "<Axes: xlabel='label', ylabel='count'>"
            ]
          },
          "metadata": {},
          "execution_count": 35
        },
        {
          "output_type": "display_data",
          "data": {
            "text/plain": [
              "<Figure size 640x480 with 1 Axes>"
            ],
            "image/png": "[encoded data removed]"
          },
          "metadata": {}
        }
      ]
    },
    {
      "cell_type": "code",
      "source": [
        "#menghitung jumlah data masing-masing label\n",
        "df[\"label\"].value_counts()"
      ],
      "metadata": {
        "colab": {
          "base_uri": "https://localhost:8080/"
        },
        "id": "DzYiwnj0xQM8",
        "outputId": "b53bd895-ee71-4fea-dae5-626879551495"
      },
      "execution_count": 36,
      "outputs": [
        {
          "output_type": "execute_result",
          "data": {
            "text/plain": [
              "label\n",
              "0    530\n",
              "1    520\n",
              "Name: count, dtype: int64"
            ]
          },
          "metadata": {},
          "execution_count": 36
        }
      ]
    },
    {
      "cell_type": "markdown",
      "metadata": {
        "id": "dbyY_-PRO7TK"
      },
      "source": [
        "# Proses 2 (preprocessing, case folding, stopword removal, steming )"
      ]
    },
    {
      "cell_type": "markdown",
      "metadata": {
        "id": "zEmkEvPoO7TL"
      },
      "source": [
        "# Preprocessing"
      ]
    },
    {
      "cell_type": "code",
      "source": [
        "import nltk\n",
        "from nltk.corpus import stopwords\n",
        "from nltk.stem import SnowballStemmer\n",
        "import re"
      ],
      "metadata": {
        "id": "A0RB3sj1xVo6"
      },
      "execution_count": 37,
      "outputs": []
    },
    {
      "cell_type": "markdown",
      "metadata": {
        "id": "ACYtWuxAy4nU"
      },
      "source": [
        "# 1. Preprocessing Menggunakan Stemming Sastrawi dan Stopwordlist Indonesia"
      ]
    },
    {
      "cell_type": "code",
      "source": [
        "#simpan kata-kata stopword\n",
        "\n",
        "f=open('stopwordlist.txt')\n",
        "ina_stopword = f.read()\n",
        "\n",
        "tempStoplist = []\n",
        "for tempstp in ina_stopword.split():\n",
        "  tempStoplist.append(tempstp)"
      ],
      "metadata": {
        "id": "gMzelNbtxYYf"
      },
      "execution_count": 38,
      "outputs": []
    },
    {
      "cell_type": "code",
      "source": [
        "!pip install sastrawi"
      ],
      "metadata": {
        "colab": {
          "base_uri": "https://localhost:8080/"
        },
        "id": "dEJBlEucxjLH",
        "outputId": "52e545a0-658a-45e8-c067-751e8d5cf21b"
      },
      "execution_count": 39,
      "outputs": [
        {
          "output_type": "stream",
          "name": "stdout",
          "text": [
            "Requirement already satisfied: sastrawi in /usr/local/lib/python3.10/dist-packages (1.0.1)\n"
          ]
        }
      ]
    },
    {
      "cell_type": "code",
      "source": [
        "tempStoplist"
      ],
      "metadata": {
        "colab": {
          "base_uri": "https://localhost:8080/"
        },
        "id": "lmzCCxysx_-F",
        "outputId": "eedcaae5-30df-4bd3-ef12-c0d9b1082ae9"
      },
      "execution_count": 40,
      "outputs": [
        {
          "output_type": "execute_result",
          "data": {
            "text/plain": [
              "[]"
            ]
          },
          "metadata": {},
          "execution_count": 40
        }
      ]
    },
    {
      "cell_type": "code",
      "source": [
        "from Sastrawi.Stemmer.StemmerFactory import StemmerFactory\n",
        "factory = StemmerFactory()\n",
        "stemmer = factory.create_stemmer()"
      ],
      "metadata": {
        "id": "h_6_hijpyE3y"
      },
      "execution_count": 41,
      "outputs": []
    },
    {
      "cell_type": "code",
      "source": [
        "TEXT_CLEANING_RE = \"@=-_\\S+|https?:\\S+http?:\\S|{^A-Za-z}+\"\n",
        "\n",
        "def preprocessing(tweet):\n",
        "  tweet = re.sub(TEXT_CLEANING_RE,'',str(tweet).lower()).strip() #casefolding dan remove punctuation\n",
        "  tokens = []\n",
        "  for token in tweet.split():\n",
        "    if token not in tempStoplist: #jika token tidak di stopword maka simpan\n",
        "      token = stemmer.stem(token)\n",
        "      tokens.append(token)\n",
        "    return\" \".join(tokens)"
      ],
      "metadata": {
        "id": "5jPdtRTQyHu2"
      },
      "execution_count": 42,
      "outputs": []
    },
    {
      "cell_type": "markdown",
      "metadata": {
        "id": "rqq4x_735IZt"
      },
      "source": [
        "# Mengimplementasikan preprocessing Menggunakan Stemming Sastrawi dan Stopwordlist Indonesia"
      ]
    },
    {
      "cell_type": "code",
      "source": [
        "#Mengimplementasikan preprocessing Menggunakan Stemming Sastrawi dan Stopwordlist Indonesia\n",
        "#-+ 10 menit\n",
        "\n",
        "%%time\n",
        "\n",
        "df['clean_twt'] = df.tweet.apply(lambda x: preprocessing(x))\n",
        "df['clean_twt'] = df.clean_twt.str.replace('rt', '')\n",
        "df.head()"
      ],
      "metadata": {
        "id": "25MkSxUMyLBP"
      },
      "execution_count": null,
      "outputs": []
    },
    {
      "cell_type": "markdown",
      "metadata": {
        "id": "yBVsrCfI2eGi"
      },
      "source": [
        "Nahh, disini dalam proses preprocessing memakan waktu yang lama, yaitu sekitar 5 menit."
      ]
    },
    {
      "cell_type": "markdown",
      "metadata": {
        "id": "jG70D55k3cO6"
      },
      "source": [
        "# 2. Preprocessing Menggunakan Stemming English dan Stopwordlist English"
      ]
    },
    {
      "cell_type": "code",
      "source": [
        "nltk.download('stopwords')\n",
        "\n",
        "stop_words = stopwords.words(\"english\")\n",
        "stemmer = SnowballStemmer(\"english\")"
      ],
      "metadata": {
        "id": "Ha7zEqblySgH"
      },
      "execution_count": null,
      "outputs": []
    },
    {
      "cell_type": "code",
      "source": [
        "def preprocess(tweet, stem=False):\n",
        "    tweet = re.sub(TEXT_CLEANING_RE, '', str(tweet).lower()).strip()\n",
        "    tokens = []\n",
        "    for token in tweet.split():\n",
        "        if token not in tempStoplist:\n",
        "            if stem:\n",
        "                tokens.append(stem(token))\n",
        "            else:\n",
        "                tokens.append(token)\n",
        "\n",
        "    return \" \".join(tokens)"
      ],
      "metadata": {
        "id": "t6nGHi9ayVZI"
      },
      "execution_count": null,
      "outputs": []
    },
    {
      "cell_type": "markdown",
      "metadata": {
        "id": "BwmbHQ485NMU"
      },
      "source": [
        "Mengimplementasikan preprocessing dengan Menggunakan Stemming English dan Stopwordlist English"
      ]
    },
    {
      "cell_type": "code",
      "source": [
        "#Mengimplementasikan preprocessing dengan menggunakan stemming english dan stopwordlist english\n",
        "\n",
        "%%time\n",
        "\n",
        "\n",
        "df['clean_twt'] = df.tweet.apply(lambda x: preprocess(x))\n",
        "df['clean_twt'] = df.clean_twt.str.replace('rt', '')\n",
        "df.head()"
      ],
      "metadata": {
        "id": "j0RZq_0Uya4Q"
      },
      "execution_count": null,
      "outputs": []
    },
    {
      "cell_type": "markdown",
      "metadata": {
        "id": "EqiF5fZE2s7E"
      },
      "source": [
        "Dan, disini dengan menggunakan stopwords bahasa Inggris waktu preprocessing"
      ]
    },
    {
      "cell_type": "markdown",
      "metadata": {
        "id": "QYSRT6QQO7TQ"
      },
      "source": [
        "# Proses 3 (Modeling dengan Metode Logistic Regression)"
      ]
    },
    {
      "cell_type": "markdown",
      "metadata": {
        "id": "seC-HU67O7TQ"
      },
      "source": [
        "# Logistic Regression"
      ]
    },
    {
      "cell_type": "code",
      "source": [
        "#melakukan pemodelan prediksi\n",
        "\n",
        "%%time\n",
        "\n",
        "from sklearn.feature_extraction.text import TfidfVectorizer\n",
        "from sklearn.linear_model import LogisticRegression\n",
        "from sklearn.model_selection import train_test_split\n",
        "from sklearn.metrics import f1_score, log_loss\n",
        "\n",
        "#membangun vector space model/pembobotan dengan tfidf\n",
        "vectorizer = TfidfVectorizer(ngram_range=(1,3), min_df = 10)\n",
        "features = vectorizer.fit_transform(df.clean_twt)\n",
        "\n",
        "#melakukan split data training untuk mengetahui akurasi\n",
        "X_train, X_test, y_train, y_test = train_test_split(features, y, test_size=0.2, random_state=4)\n",
        "\n",
        "#modelling sentiment\n",
        "LR_ = LogisticRegression(C=3, solver='liblinear', max_iter=150).fit(X_train, y_train)"
      ],
      "metadata": {
        "id": "KzD8QgAhygvc"
      },
      "execution_count": null,
      "outputs": []
    },
    {
      "cell_type": "code",
      "source": [
        "features"
      ],
      "metadata": {
        "id": "37Yf3YAHymyQ"
      },
      "execution_count": null,
      "outputs": []
    },
    {
      "cell_type": "markdown",
      "metadata": {
        "id": "AGLDsjlxO7TR"
      },
      "source": [
        "# Proses 4 (Evaluation)"
      ]
    },
    {
      "cell_type": "markdown",
      "metadata": {
        "id": "oWJJY9feO7TR"
      },
      "source": [
        "# Evaluation"
      ]
    },
    {
      "cell_type": "code",
      "source": [
        "#melakukan evaluasi\n",
        "yhat = LR_.predict(X_test)\n",
        "print('F1 score :', f1_score(y_test, yhat, average = 'weighted'))\n",
        "\n",
        "yhat_prob = LR_.predict_proba(X_test)\n",
        "print('Log Loss: ', log_loss(y_test, yhat_prob))"
      ],
      "metadata": {
        "id": "I7kkhSpcyqza"
      },
      "execution_count": null,
      "outputs": []
    },
    {
      "cell_type": "markdown",
      "metadata": {
        "id": "DZkcLp5UO7TS"
      },
      "source": [
        "# Proses 5 (End Process : Prediction of Data Testing)"
      ]
    },
    {
      "cell_type": "markdown",
      "metadata": {
        "id": "SPzIk_d7Eefo"
      },
      "source": [
        "# Testing Prediksi"
      ]
    },
    {
      "cell_type": "markdown",
      "metadata": {
        "id": "_v16ETW1O7TT"
      },
      "source": [
        "# Prediction"
      ]
    },
    {
      "cell_type": "code",
      "source": [
        "#Melakukan prediksi untuk data yang tidak diketahui labelnya\n",
        "#lakukan prepocessing untuk data yang tidak diketahui labelnya\n",
        "#df_test = pd.read_csv('juli2test.csv')\n",
        "\n",
        "df_test = pd.read_csv(r'https://raw.githubusercontent.com/rasyidev/well-known-datasets/main/juli2test.csv')\n",
        "df_test.head()"
      ],
      "metadata": {
        "id": "X4id0FQtyvo2"
      },
      "execution_count": null,
      "outputs": []
    },
    {
      "cell_type": "code",
      "source": [
        "#casefolding, filtering, steming data yang tidak diketahui labelnya\n",
        "#1. Ganti PROCESSING jika pakai stopword Indonesia\n",
        "#2. Ganti PROCESS jika pakai stopword English\n",
        "\n",
        "df_test['clean_twt'] = df_test.tweet.apply(lambda x: preprocessing(x))\n",
        "df_test['clean_twt'] = df_test.clean_twt.str.replace('rt', ' ')\n",
        "df_test.head()"
      ],
      "metadata": {
        "id": "l9FISCUhyzgO"
      },
      "execution_count": null,
      "outputs": []
    },
    {
      "cell_type": "code",
      "source": [
        "#pembobotan data yang tidak diketahui labelnya\n",
        "vector_test = TfidfVectorizer(ngram_range=(1,3), min_df=10)\n",
        "feature_test = vector_test.fit_transform(df_test.clean_twt)"
      ],
      "metadata": {
        "id": "rU09aSayy20z"
      },
      "execution_count": null,
      "outputs": []
    },
    {
      "cell_type": "code",
      "source": [
        "#melakukan training yang tidak diketahui labelnya\n",
        "def training_step(data, vectorizer) :\n",
        "  features = vectorizer.fit_transform(df.clean_twt)\n",
        "  LR_ = LogisticRegression(C=3, solver='liblinear', max_iter = 150).fit(features,y)\n",
        "  return LR_\n",
        "\n",
        "#melakukan testing\n",
        "classifier = training_step(df.clean_twt, vectorizer)\n",
        "result = classifier.predict(vectorizer.transform(df_test.clean_twt))\n",
        "\n",
        "result"
      ],
      "metadata": {
        "id": "_zDHD9kBy6eT"
      },
      "execution_count": null,
      "outputs": []
    },
    {
      "cell_type": "code",
      "source": [
        "#simpan hasil\n",
        "np.savetxt('hasil_prediksi_juli.txt', result, fmt='%i', delimiter='\\n')"
      ],
      "metadata": {
        "id": "I0wLqO5-y-fW"
      },
      "execution_count": null,
      "outputs": []
    },
    {
      "cell_type": "code",
      "source": [
        "df_hasil = pd.read_csv(r'hasil_prediksi_juli.txt')\n",
        "df_hasil.head()"
      ],
      "metadata": {
        "id": "YI5WnTivzALM"
      },
      "execution_count": null,
      "outputs": []
    },
    {
      "cell_type": "code",
      "source": [
        "def prediksi_komentar(comment):\n",
        "  result = classifier.predict(vectorizer.transform([comment]))\n",
        "  if result ==1:\n",
        "    return \"Positif\"\n",
        "  else:\n",
        "    return \"Negatif\""
      ],
      "metadata": {
        "id": "_6MdTQouzCv4"
      },
      "execution_count": null,
      "outputs": []
    },
    {
      "cell_type": "code",
      "source": [
        "prediksi_komentar(\"Wah ahok cocok jadi presiden nih\")"
      ],
      "metadata": {
        "id": "PsMUvpftzFSC"
      },
      "execution_count": null,
      "outputs": []
    }
  ]
}